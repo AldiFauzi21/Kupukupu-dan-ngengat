{
  "nbformat": 4,
  "nbformat_minor": 0,
  "metadata": {
    "kernelspec": {
      "display_name": "Python 2",
      "language": "python",
      "name": "python2"
    },
    "language_info": {
      "codemirror_mode": {
        "name": "ipython",
        "version": 2
      },
      "file_extension": ".py",
      "mimetype": "text/x-python",
      "name": "python",
      "nbconvert_exporter": "python",
      "pygments_lexer": "ipython2",
      "version": "2.7.15+"
    },
    "colab": {
      "name": "Classifier.ipynb",
      "provenance": [],
      "collapsed_sections": [],
      "toc_visible": true
    }
  },
  "cells": [
    {
      "cell_type": "code",
      "metadata": {
        "id": "hfziEJ7_Dl0z",
        "colab_type": "code",
        "colab": {}
      },
      "source": [
        "import pandas as pd\n",
        "import numpy as np\n",
        "import seaborn as sns"
      ],
      "execution_count": 0,
      "outputs": []
    },
    {
      "cell_type": "markdown",
      "metadata": {
        "id": "39PThyEMDl1M",
        "colab_type": "text"
      },
      "source": [
        "# READ THE DATASET"
      ]
    },
    {
      "cell_type": "markdown",
      "metadata": {
        "id": "mUYkBD_8Dl1Q",
        "colab_type": "text"
      },
      "source": [
        "Read the csv data\n",
        "\n",
        "\n",
        "\n"
      ]
    },
    {
      "cell_type": "code",
      "metadata": {
        "id": "KA6UBsuMDl1T",
        "colab_type": "code",
        "colab": {}
      },
      "source": [
        "data = pd.read_csv(\"Dataset.csv\")\n",
        "data_sns = pd.DataFrame(data)"
      ],
      "execution_count": 0,
      "outputs": []
    },
    {
      "cell_type": "code",
      "metadata": {
        "id": "MvN1jmw_9kU1",
        "colab_type": "code",
        "outputId": "a5b39cb8-813d-442b-ea58-d9b2f4a53d70",
        "colab": {
          "base_uri": "https://localhost:8080/",
          "height": 119
        }
      },
      "source": [
        "print(data.columns)\n",
        "len(data)"
      ],
      "execution_count": 27,
      "outputs": [
        {
          "output_type": "stream",
          "text": [
            "Index([u'nama', u'jenis', u'energy0', u'idm0', u'cont0', u'korelasi0',\n",
            "       u'energy45', u'idm45', u'cont45', u'korelasi45', u'energy90', u'idm90',\n",
            "       u'cont90', u'korelasi90', u'energy135', u'idm135', u'cont135',\n",
            "       u'korelasi135', u'lebel'],\n",
            "      dtype='object')\n"
          ],
          "name": "stdout"
        },
        {
          "output_type": "execute_result",
          "data": {
            "text/plain": [
              "138"
            ]
          },
          "metadata": {
            "tags": []
          },
          "execution_count": 27
        }
      ]
    },
    {
      "cell_type": "code",
      "metadata": {
        "id": "bkBpzcbm2_ma",
        "colab_type": "code",
        "outputId": "cd7bb020-a537-4336-9cf4-f1f3f7e1182a",
        "colab": {
          "base_uri": "https://localhost:8080/",
          "height": 1000
        }
      },
      "source": [
        "print(data)"
      ],
      "execution_count": 28,
      "outputs": [
        {
          "output_type": "stream",
          "text": [
            "               nama jenis   energy0  ...      cont135  korelasi135  lebel\n",
            "0    ngengat/28.jpg    G1  0.023175  ...   384.939406     0.446590      0\n",
            "1     ngengat/9.jpg    G1  0.035994  ...    22.482600     0.324178      0\n",
            "2    ngengat/23.jpg    G1  0.011321  ...  1022.832992     0.378470      0\n",
            "3    ngengat/46.jpg    G1  0.030201  ...    59.297793     0.264985      0\n",
            "4     ngengat/3.jpg    G1  0.024853  ...   556.062871     0.406120      0\n",
            "5    ngengat/68.jpg    G1  0.057316  ...   208.018173     0.151332      0\n",
            "6    ngengat/58.jpg    G1  0.034842  ...   131.135876     0.454376      0\n",
            "7    ngengat/67.jpg    G1  0.017680  ...   327.015832     0.420036      0\n",
            "8     ngengat/2.jpg    G1  0.026697  ...   437.886240     0.369393      0\n",
            "9    ngengat/54.jpg    G1  0.029944  ...    65.404896     0.425851      0\n",
            "10   ngengat/26.jpg    G1  0.010242  ...   573.492960     0.353541      0\n",
            "11   ngengat/13.jpg    G1  0.031190  ...   303.903828     0.492854      0\n",
            "12    ngengat/5.jpg    G1  0.128731  ...    87.030921     0.709798      0\n",
            "13   ngengat/39.jpg    G1  0.080166  ...   991.040621     0.489961      0\n",
            "14   ngengat/34.jpg    G1  0.027268  ...   133.890951     0.270438      0\n",
            "15   ngengat/59.jpg    G1  0.023371  ...   536.917303     0.402016      0\n",
            "16   ngengat/51.jpg    G1  0.024274  ...   290.540310     0.278742      0\n",
            "17   ngengat/20.jpg    G1  0.065856  ...   115.750604     0.378921      0\n",
            "18   ngengat/35.jpg    G1  0.046085  ...   155.380946     0.169686      0\n",
            "19   ngengat/45.jpg    G1  0.009849  ...   447.468135     0.403847      0\n",
            "20   ngengat/27.jpg    G1  0.020755  ...   162.015879     0.422038      0\n",
            "21   ngengat/38.jpg    G1  0.010242  ...   573.492960     0.353541      0\n",
            "22   ngengat/47.jpg    G1  0.033085  ...    57.369913     0.390086      0\n",
            "23   ngengat/63.jpg    G1  0.033351  ...  1219.988061     0.440677      0\n",
            "24   ngengat/50.jpg    G1  0.037653  ...   167.410209     0.264481      0\n",
            "25   ngengat/36.jpg    G1  0.042976  ...    50.445709     0.608878      0\n",
            "26   ngengat/65.jpg    G1  0.133242  ...   124.847542     0.139451      0\n",
            "27    ngengat/7.jpg    G1  0.042459  ...    98.009353     0.316434      0\n",
            "28   ngengat/30.jpg    G1  0.034526  ...    52.151378     0.281442      0\n",
            "29   ngengat/56.jpg    G1  0.034564  ...   124.548782     0.380614      0\n",
            "..              ...   ...       ...  ...          ...          ...    ...\n",
            "108     kupu/29.jpg    G1  0.024992  ...   626.496642     0.625595      1\n",
            "109     kupu/16.jpg    G1  0.022698  ...   640.490975     0.427666      1\n",
            "110     kupu/53.jpg    G1  0.036492  ...    22.414730     0.443164      1\n",
            "111      kupu/6.jpg    G1  0.033510  ...   354.192684     0.358277      1\n",
            "112     kupu/19.jpg    G1  0.021122  ...   313.078648     0.525665      1\n",
            "113     kupu/31.jpg    G1  0.060624  ...   207.076758     0.419296      1\n",
            "114     kupu/48.jpg    G1  0.035957  ...    38.732462     0.484952      1\n",
            "115     kupu/52.jpg    G1  0.034144  ...    67.938065     0.587388      1\n",
            "116      kupu/8.jpg    G1  0.019821  ...   399.586115     0.447079      1\n",
            "117     kupu/42.jpg    G1  0.025353  ...    68.718219     0.390748      1\n",
            "118     kupu/69.jpg    G1  0.022512  ...    84.637721     0.429123      1\n",
            "119     kupu/24.jpg    G1  0.016415  ...   809.263310     0.423905      1\n",
            "120     kupu/11.jpg    G1  0.034550  ...   422.416584     0.343317      1\n",
            "121     kupu/44.jpg    G1  0.041383  ...    63.459981     0.319451      1\n",
            "122     kupu/64.jpg    G1  0.030140  ...    25.101422     0.493121      1\n",
            "123     kupu/15.jpg    G1  0.031508  ...  1204.340463     0.449094      1\n",
            "124      kupu/4.jpg    G1  0.024261  ...   480.554638     0.461075      1\n",
            "125     kupu/60.jpg    G1  0.032003  ...    13.902948     0.461733      1\n",
            "126     kupu/22.jpg    G1  0.022442  ...   306.451801     0.513011      1\n",
            "127     kupu/25.jpg    G1  0.013067  ...  1123.096087     0.456034      1\n",
            "128     kupu/61.jpg    G1  0.031181  ...    16.605888     0.384917      1\n",
            "129     kupu/41.jpg    G1  0.041515  ...    34.309123     0.467547      1\n",
            "130     kupu/10.jpg    G1  0.017146  ...   527.110740     0.540401      1\n",
            "131     kupu/14.jpg    G1  0.046551  ...   186.629168     0.350663      1\n",
            "132     kupu/21.jpg    G1  0.047307  ...   876.154826     0.357807      1\n",
            "133      kupu/1.jpg    G1  0.127287  ...   583.418763     0.271511      1\n",
            "134     kupu/62.jpg    G1  0.033681  ...   106.307997     0.498249      1\n",
            "135     kupu/49.jpg    G1  0.034090  ...    18.499830     0.339523      1\n",
            "136     kupu/40.jpg    G1  0.042281  ...    17.044443     0.394083      1\n",
            "137     kupu/57.jpg    G1  0.049973  ...    16.241139     0.526460      1\n",
            "\n",
            "[138 rows x 19 columns]\n"
          ],
          "name": "stdout"
        }
      ]
    },
    {
      "cell_type": "code",
      "metadata": {
        "id": "sjoIwF_993BH",
        "colab_type": "code",
        "outputId": "2bbc5e77-be33-4c6f-8d1c-1944db906372",
        "colab": {
          "base_uri": "https://localhost:8080/",
          "height": 357
        }
      },
      "source": [
        "print(data_sns.corr())"
      ],
      "execution_count": 29,
      "outputs": [
        {
          "output_type": "stream",
          "text": [
            "              energy0      idm0     cont0  ...   cont135  korelasi135     lebel\n",
            "energy0      1.000000  0.712633  0.128777  ...  0.127059     0.075150 -0.063203\n",
            "idm0         0.712633  1.000000 -0.203200  ... -0.203732    -0.077536  0.078832\n",
            "cont0        0.128777 -0.203200  1.000000  ...  0.978606     0.096137 -0.085334\n",
            "korelasi0    0.076170 -0.090554  0.146976  ...  0.161583     0.997315  0.041893\n",
            "energy45     0.998524  0.695118  0.132575  ...  0.129970     0.073134 -0.057383\n",
            "idm45        0.810001  0.975222 -0.132730  ... -0.141377    -0.017416  0.064173\n",
            "cont45       0.116455 -0.209168  0.977061  ...  0.985673     0.094206 -0.060728\n",
            "korelasi45   0.076600 -0.078013  0.094564  ...  0.104812     0.999165  0.037147\n",
            "energy90     0.998992  0.711220  0.130898  ...  0.128028     0.065618 -0.054865\n",
            "idm90        0.707181  0.981927 -0.202392  ... -0.210086    -0.068343  0.116948\n",
            "cont90       0.105066 -0.201067  0.954855  ...  0.972908     0.111417 -0.083264\n",
            "korelasi90   0.079221 -0.091635  0.152837  ...  0.162293     0.997356  0.039314\n",
            "energy135    0.998710  0.696970  0.131547  ...  0.128965     0.070894 -0.058969\n",
            "idm135       0.805934  0.977332 -0.136723  ... -0.145418    -0.029048  0.050690\n",
            "cont135      0.127059 -0.203732  0.978606  ...  1.000000     0.104311 -0.062834\n",
            "korelasi135  0.075150 -0.077536  0.096137  ...  0.104311     1.000000  0.038755\n",
            "lebel       -0.063203  0.078832 -0.085334  ... -0.062834     0.038755  1.000000\n",
            "\n",
            "[17 rows x 17 columns]\n"
          ],
          "name": "stdout"
        }
      ]
    },
    {
      "cell_type": "code",
      "metadata": {
        "id": "NqhEerNP9req",
        "colab_type": "code",
        "outputId": "45af2ac2-80f9-4139-9068-8b625b865ac0",
        "colab": {
          "base_uri": "https://localhost:8080/",
          "height": 317
        }
      },
      "source": [
        "ax = sns.heatmap(data_sns.corr())"
      ],
      "execution_count": 30,
      "outputs": [
        {
          "output_type": "display_data",
          "data": {
            "image/png": "[encoded data removed]",
            "text/plain": [
              "<Figure size 432x288 with 2 Axes>"
            ]
          },
          "metadata": {
            "tags": []
          }
        }
      ]
    },
    {
      "cell_type": "markdown",
      "metadata": {
        "id": "4i54FT0jDl1Z",
        "colab_type": "text"
      },
      "source": [
        "Take the \"lebel\" column to be the label/class of the data and save to \"y\""
      ]
    },
    {
      "cell_type": "code",
      "metadata": {
        "id": "QtO6A1kODl1h",
        "colab_type": "code",
        "colab": {}
      },
      "source": [
        "y = data[\"lebel\"] "
      ],
      "execution_count": 0,
      "outputs": []
    },
    {
      "cell_type": "markdown",
      "metadata": {
        "id": "O1Qs4NcKDl1o",
        "colab_type": "text"
      },
      "source": [
        "Jatuhkan semua kolom tidak dapat digunakan untuk menjadi fitur data, dan simpan fitur-fiturnya \"x\""
      ]
    },
    {
      "cell_type": "code",
      "metadata": {
        "id": "LwK4463TDl1q",
        "colab_type": "code",
        "colab": {}
      },
      "source": [
        "data = data.drop(\"nama\", axis=1)\n",
        "data = data.drop(\"jenis\", axis=1)\n",
        "x=data.drop(\"lebel\",axis=1)"
      ],
      "execution_count": 0,
      "outputs": []
    },
    {
      "cell_type": "markdown",
      "metadata": {
        "id": "zc7Qg8GNDl12",
        "colab_type": "text"
      },
      "source": [
        "Pisahkan dataset menjadi data pelatihan dan data pengujian (50:50)"
      ]
    },
    {
      "cell_type": "code",
      "metadata": {
        "id": "r0ayBFMfDl14",
        "colab_type": "code",
        "colab": {}
      },
      "source": [
        "from sklearn.model_selection import train_test_split\n",
        "train_x, test_x, train_y, test_y = train_test_split(x,y, test_size=0.30)"
      ],
      "execution_count": 0,
      "outputs": []
    },
    {
      "cell_type": "markdown",
      "metadata": {
        "id": "Cg6cnRobDl78",
        "colab_type": "text"
      },
      "source": [
        "# Clasification with KNN"
      ]
    },
    {
      "cell_type": "code",
      "metadata": {
        "id": "p5BPhB2ADl7-",
        "colab_type": "code",
        "outputId": "3f27cc6d-278d-4b01-9e98-1dc1aca4aace",
        "colab": {
          "base_uri": "https://localhost:8080/",
          "height": 34
        }
      },
      "source": [
        "from sklearn.neighbors import KNeighborsClassifier\n",
        "import time as t\n",
        "mulai2 = t.time()\n",
        "neigh = KNeighborsClassifier(n_neighbors=5)\n",
        "neigh.fit(train_x,train_y)\n",
        "pred_ynn = neigh.predict(test_x)\n",
        "print(\"waktu eksekusi : %s seconds \" % (t.time() - mulai2))"
      ],
      "execution_count": 50,
      "outputs": [
        {
          "output_type": "stream",
          "text": [
            "waktu eksekusi : 0.00812387466431 seconds \n"
          ],
          "name": "stdout"
        }
      ]
    },
    {
      "cell_type": "code",
      "metadata": {
        "id": "p6-MNUe6Dl8T",
        "colab_type": "code",
        "outputId": "4533f45a-6c81-4b67-ca8f-caf63a1e6428",
        "colab": {
          "base_uri": "https://localhost:8080/",
          "height": 34
        }
      },
      "source": [
        "\n",
        "#print(\"Prediksi : \",pred_ynn)\n",
        "#print(\"test : \",test_y)\n",
        "#print(\"training : \",train_y)\n",
        "len(pred_ynn)"
      ],
      "execution_count": 51,
      "outputs": [
        {
          "output_type": "execute_result",
          "data": {
            "text/plain": [
              "42"
            ]
          },
          "metadata": {
            "tags": []
          },
          "execution_count": 51
        }
      ]
    },
    {
      "cell_type": "code",
      "metadata": {
        "id": "da6U0ybjDl8e",
        "colab_type": "code",
        "outputId": "c6049beb-0508-419e-8c7d-496bf6445b92",
        "colab": {
          "base_uri": "https://localhost:8080/",
          "height": 34
        }
      },
      "source": [
        "from sklearn.metrics import accuracy_score\n",
        "score = accuracy_score(test_y,pred_ynn)\n",
        "print('keakuratan = ',(score*100),\"%\")"
      ],
      "execution_count": 52,
      "outputs": [
        {
          "output_type": "stream",
          "text": [
            "('keakuratan = ', 61.904761904761905, '%')\n"
          ],
          "name": "stdout"
        }
      ]
    },
    {
      "cell_type": "code",
      "metadata": {
        "id": "xcQIbkTI2GP2",
        "colab_type": "code",
        "colab": {}
      },
      "source": [
        " "
      ],
      "execution_count": 0,
      "outputs": []
    },
    {
      "cell_type": "markdown",
      "metadata": {
        "id": "3NoU8klgkQBn",
        "colab_type": "text"
      },
      "source": [
        "# New Section"
      ]
    },
    {
      "cell_type": "code",
      "metadata": {
        "id": "mKwUfWY0O-r6",
        "colab_type": "code",
        "colab": {}
      },
      "source": [
        ""
      ],
      "execution_count": 0,
      "outputs": []
    }
  ]
}